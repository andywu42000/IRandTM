{
 "cells": [
  {
   "cell_type": "code",
   "execution_count": 9,
   "metadata": {},
   "outputs": [],
   "source": [
    "import re, nltk\n",
    "from nltk.stem.porter import *\n",
    "\n",
    "# R0672532\n",
    "# 開啟news.txt檔並作初步的分割、去跳行及全小寫化\n",
    "raw = open('news.txt', 'r', encoding='UTF-8').read().lower().strip().split()\n",
    "\n",
    "# token化分割的單詞\n",
    "tokens = []\n",
    "for text in raw:\n",
    "    tokens.append(re.compile(\"[^a-zA-Z\\-_]\").sub('', text))\n",
    "\n",
    "# 使用nltk的PorterStemmer\n",
    "stemmer = PorterStemmer()\n",
    "singles = [stemmer.stem(token) for token in tokens]\n",
    "\n",
    "# 開啟stopwords.txt去除stopwords並輸出結果\n",
    "stopwords = open('stopwords.txt', 'r', encoding='UTF-8').read()\n",
    "filtered_words = [word for word in singles if word not in stopwords]\n",
    "\n",
    "output_file = open('result.txt', 'w', encoding='UTF-8')\n",
    "for word in filtered_words:\n",
    "    output_file.write(word + '\\n')\n",
    "output_file.close()"
   ]
  },
  {
   "cell_type": "code",
   "execution_count": null,
   "metadata": {
    "collapsed": true
   },
   "outputs": [],
   "source": []
  },
  {
   "cell_type": "code",
   "execution_count": null,
   "metadata": {
    "collapsed": true
   },
   "outputs": [],
   "source": []
  }
 ],
 "metadata": {
  "kernelspec": {
   "display_name": "Python 3",
   "language": "python",
   "name": "python3"
  },
  "language_info": {
   "codemirror_mode": {
    "name": "ipython",
    "version": 3
   },
   "file_extension": ".py",
   "mimetype": "text/x-python",
   "name": "python",
   "nbconvert_exporter": "python",
   "pygments_lexer": "ipython3",
   "version": "3.6.1"
  }
 },
 "nbformat": 4,
 "nbformat_minor": 2
}
